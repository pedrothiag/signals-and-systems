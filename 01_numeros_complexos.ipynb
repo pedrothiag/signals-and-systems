{
 "cells": [
  {
   "cell_type": "markdown",
   "id": "22d6279e-3bf8-429a-8e50-6c7c20f398ab",
   "metadata": {},
   "source": [
    "# Números Complexos em Python\n",
    "\n",
    "## Conversão de Retangular para Polar"
   ]
  },
  {
   "cell_type": "code",
   "execution_count": 14,
   "id": "4a19417b-299c-4c22-8b60-9c14b242c51a",
   "metadata": {},
   "outputs": [
    {
     "data": {
      "text/plain": [
       "(2+3j)"
      ]
     },
     "execution_count": 14,
     "metadata": {},
     "output_type": "execute_result"
    }
   ],
   "source": [
    "import numpy as np\n",
    "\n",
    "z1 = 2 + 1j*3\n",
    "z1"
   ]
  },
  {
   "cell_type": "code",
   "execution_count": 15,
   "id": "5b66aca8-4691-49e0-8f42-079cef8489db",
   "metadata": {},
   "outputs": [
    {
     "name": "stdout",
     "output_type": "stream",
     "text": [
      "r = 3.6055512754639896\n",
      "theta =  56.309932474020215\n"
     ]
    }
   ],
   "source": [
    "r = np.abs(z1)\n",
    "theta = np.angle(z1)*180/np.pi\n",
    "print(\"r =\",r)\n",
    "print(\"theta = \",theta)"
   ]
  },
  {
   "cell_type": "code",
   "execution_count": 13,
   "id": "938904c3-27c7-4528-9918-dd252fd54d8e",
   "metadata": {},
   "outputs": [
    {
     "name": "stdout",
     "output_type": "stream",
     "text": [
      "r = 2.23606797749979\n",
      "theta =  153.43494882292202\n"
     ]
    }
   ],
   "source": [
    "z2 = -2 + 1j\n",
    "r = np.abs(z2)\n",
    "theta = np.angle(z2)*180/np.pi\n",
    "print(\"r =\",r)\n",
    "print(\"theta = \",theta)"
   ]
  },
  {
   "cell_type": "markdown",
   "id": "45c8e1e9-b7ff-4d9a-878e-695f25e67997",
   "metadata": {},
   "source": [
    "## Conversão de Polar para Retangular"
   ]
  },
  {
   "cell_type": "code",
   "execution_count": 18,
   "id": "c44b003d-654b-4271-bdb9-b5f398585fce",
   "metadata": {},
   "outputs": [
    {
     "name": "stdout",
     "output_type": "stream",
     "text": [
      "(1.0000000000000002+1.7320508075688772j)\n"
     ]
    }
   ],
   "source": [
    "z5 = 2*np.exp(1j*np.pi/3)\n",
    "print(z5)"
   ]
  },
  {
   "cell_type": "markdown",
   "id": "ab828e7b-e60d-458c-af63-417afaa30545",
   "metadata": {},
   "source": [
    "## Conjugado Complexo"
   ]
  },
  {
   "cell_type": "code",
   "execution_count": 22,
   "id": "7d705769-55b3-44b8-bc15-b1dcc8dfdc7b",
   "metadata": {},
   "outputs": [
    {
     "name": "stdout",
     "output_type": "stream",
     "text": [
      "(3+4j)\n"
     ]
    }
   ],
   "source": [
    "z1 = 3 + 1j*4\n",
    "print(z1)"
   ]
  },
  {
   "cell_type": "code",
   "execution_count": 23,
   "id": "2f49e57a-1e1a-4b9a-b6ed-080dd275e4bf",
   "metadata": {},
   "outputs": [
    {
     "name": "stdout",
     "output_type": "stream",
     "text": [
      "(3-4j)\n"
     ]
    }
   ],
   "source": [
    "z1_conj = np.conj(z1)\n",
    "print(z1_conj)"
   ]
  },
  {
   "cell_type": "code",
   "execution_count": 24,
   "id": "3467ab14-2fe0-4aac-885f-258a3a3c123b",
   "metadata": {},
   "outputs": [
    {
     "name": "stdout",
     "output_type": "stream",
     "text": [
      "(2.121320343559643-2.121320343559643j)\n"
     ]
    }
   ],
   "source": [
    "z3 = 3*np.exp(-1j*np.pi/4)\n",
    "print(z3)"
   ]
  },
  {
   "cell_type": "code",
   "execution_count": 25,
   "id": "d9d3d5de-3816-402c-8095-d87c116c608a",
   "metadata": {},
   "outputs": [
    {
     "name": "stdout",
     "output_type": "stream",
     "text": [
      "(2.121320343559643+2.121320343559643j)\n"
     ]
    }
   ],
   "source": [
    "z3_conj = np.conj(z3)\n",
    "print(z3_conj)"
   ]
  },
  {
   "cell_type": "markdown",
   "id": "aae69f8c-a8e8-4f02-8a9b-5cf371bdb6c2",
   "metadata": {},
   "source": [
    "## Operações com Números Complexos"
   ]
  },
  {
   "cell_type": "code",
   "execution_count": 26,
   "id": "2809fa72-a531-4f87-8a7e-e45d9bad1a1c",
   "metadata": {},
   "outputs": [
    {
     "name": "stdout",
     "output_type": "stream",
     "text": [
      "z1 + z2 =  (5+7j)\n",
      "z1 - z2 =  (1+1j)\n"
     ]
    }
   ],
   "source": [
    "z1 = 3 + 4j\n",
    "z2 = 2 + 3j\n",
    "\n",
    "z3 = z1 + z2\n",
    "z4 = z1 - z2\n",
    "\n",
    "print(\"z1 + z2 = \", z3)\n",
    "print(\"z1 - z2 = \", z4)"
   ]
  },
  {
   "cell_type": "code",
   "execution_count": 27,
   "id": "295d924f-a5e6-4e05-b1f7-ff36e63076ce",
   "metadata": {},
   "outputs": [
    {
     "name": "stdout",
     "output_type": "stream",
     "text": [
      "z1*z2 =  (-6+17j)\n"
     ]
    }
   ],
   "source": [
    "z5 = z1*z2\n",
    "\n",
    "print(\"z1*z2 = \", z5)"
   ]
  },
  {
   "cell_type": "code",
   "execution_count": 28,
   "id": "fa362a69-82c4-4740-81b3-627b53cf9f98",
   "metadata": {},
   "outputs": [
    {
     "name": "stdout",
     "output_type": "stream",
     "text": [
      "z1/z6 =  (1.3846153846153848-0.07692307692307697j)\n"
     ]
    }
   ],
   "source": [
    "z6 = z1/z2\n",
    "\n",
    "print(\"z1/z6 = \", z6)"
   ]
  },
  {
   "cell_type": "code",
   "execution_count": null,
   "id": "8ab90df0-1259-4c01-8b12-a072d644fa01",
   "metadata": {},
   "outputs": [],
   "source": []
  }
 ],
 "metadata": {
  "kernelspec": {
   "display_name": "Python 3 (ipykernel)",
   "language": "python",
   "name": "python3"
  },
  "language_info": {
   "codemirror_mode": {
    "name": "ipython",
    "version": 3
   },
   "file_extension": ".py",
   "mimetype": "text/x-python",
   "name": "python",
   "nbconvert_exporter": "python",
   "pygments_lexer": "ipython3",
   "version": "3.13.7"
  }
 },
 "nbformat": 4,
 "nbformat_minor": 5
}
